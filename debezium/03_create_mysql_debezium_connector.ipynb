{
 "cells": [
  {
   "cell_type": "code",
   "execution_count": null,
   "metadata": {
    "vscode": {
     "languageId": "shellscript"
    }
   },
   "outputs": [],
   "source": [
    "'''03_create_mysql_debezium_connector'''\n",
    "\n",
    "'''--------------------------------------------------------------------------------------'''\n",
    "\n",
    "'''check IP address of mysql yang terinstall di dalam docker container'''\n",
    "docker inspect -f '{{range .NetworkSettings.Networks}}{{.IPAddress}}{{end}}' mysql_source\n",
    "\n",
    "'''atau'''\n",
    "docker inspect mysql_source | grep IPAddress\n",
    "\n",
    "'''maka akan muncul IP address dari mysql yang terinstall di dalam docker container'''\n",
    "            \"SecondaryIPAddresses\": null,\n",
    "            \"IPAddress\": \"172.17.0.3\",\n",
    "                    \"IPAddress\": \"172.17.0.3\",\n",
    "\n",
    "\n",
    "\n",
    "'''--------------------------------------------------------------------------------------'''"
   ]
  }
 ],
 "metadata": {
  "language_info": {
   "name": "python"
  }
 },
 "nbformat": 4,
 "nbformat_minor": 2
}
